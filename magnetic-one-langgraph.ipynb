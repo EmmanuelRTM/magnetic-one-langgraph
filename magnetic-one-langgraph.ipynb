{
 "cells": [
  {
   "cell_type": "markdown",
   "metadata": {},
   "source": [
    "# Magnetic-one\n"
   ]
  },
  {
   "cell_type": "markdown",
   "metadata": {},
   "source": [
    "Summary of the workflow diagram of **Magnetic-One Multi-Agent System** presented in its article:\n",
    "\n",
    "### 1. Outer Loop – Initial Setup and Planning\n",
    "\n",
    "   - **Task Trigger**: The process begins when a prompt or task is initiated. This prompts the **Orchestrator**, the main coordinating agent, to set up a **Task Ledger**.\n",
    "   - **Task Ledger Creation**: The Task Ledger acts as a short-term memory for the task, recording key details that will guide the workflow.\n",
    "   - **Fact and Guess Collection**: The Orchestrator gathers and pre-populates the Task Ledger with known facts, information to look up, derivable data, and educated guesses to frame initial responses.\n",
    "   - **Plan Formation**: Using the Task Ledger and the capabilities of the available agents, the Orchestrator creates a **step-by-step plan**. This plan provides hints for task execution, guiding each agent in its respective role.\n",
    "   - **Inner Loop Initiation**: After establishing the plan, the Orchestrator starts the **Inner Loop**.\n",
    "\n",
    "### 2. Inner Loop – Iterative Task Execution and Monitoring\n",
    "\n",
    "   During each iteration of the inner loop, the Orchestrator:\n",
    "   \n",
    "   - **Evaluates Task Completion**: Checks if the task has been fully satisfied.\n",
    "   - **Checks for Loops or Stalls**: Monitors for repeated steps or a lack of forward progress.\n",
    "   - **Makes Adjustments**: If progress is slow or looping is detected, the **Counter** (a stalling indicator) is incremented.\n",
    "   - **Agent Selection and Instructions**: As long as progress continues or the Counter is within threshold limits, the Orchestrator selects the next agent to act and gives it specific instructions for the task at hand.\n",
    "   - **Reflection and Self-Refinement**: If the Counter exceeds the threshold, the Orchestrator pauses the inner loop, revisits its previous steps, updates the Task Ledger, and revises the plan. This self-reflection allows the system to adapt and correct any identified issues before resuming the inner loop.\n",
    "\n",
    "   The inner loop continues until the Orchestrator determines the task is complete or hits a predefined stopping criterion (e.g., maximum attempts or time limits).\n",
    "\n",
    "### 3. Agents – Specialized Task Execution\n",
    "\n",
    "   - **WebSurfer**: Manages interactions with a web browser, handling tasks like navigating websites, clicking, typing, or summarizing webpage content.\n",
    "   - **FileSurfer**: Focuses on navigating and reading files, such as PDFs and images, to retrieve necessary data.\n",
    "   - **Coder**: Develops, analyzes, or debugs code as needed for the task.\n",
    "   - **ComputerTerminal**: Executes code or installs libraries to support programming tasks, interacting with a console environment.\n",
    "\n",
    "   Each agent specializes in particular actions, and the Orchestrator directs agents as needed to accomplish the overall task.\n",
    "\n",
    "### 4. Termination and Final Reporting\n",
    "\n",
    "   - Once the task is complete or the termination conditions are met, both the outer and inner loops end.\n",
    "   - **Final Review and Report**: The Orchestrator reviews all progress records and the Task Ledger to produce either a final solution or its best educated guess if uncertainties remain.\n",
    "\n",
    "In summary, the workflow allows the Orchestrator to iteratively guide agents, adapt to challenges, and refine its approach in real time. This multi-layered control ensures robust task execution even in complex, dynamic environments."
   ]
  },
  {
   "cell_type": "markdown",
   "metadata": {},
   "source": [
    "## Workflow Diagram\n",
    "\n",
    "The following diagram illustrates the workflow of the MagneticOne multi-agent system, breaking down the **Outer Loop**, **Inner Loop**, and **Agent** components. This visualization provides a structural overview of task progression, agent roles, and decision points within the system.\n"
   ]
  },
  {
   "cell_type": "markdown",
   "metadata": {},
   "source": [
    "![MagneticOne Workflow Diagram](diagram_representation_workflow.svg)\n"
   ]
  },
  {
   "cell_type": "markdown",
   "metadata": {},
   "source": [
    "### Mermaid Chart Structure\n",
    "\n",
    "You can view the diagram directly and copy it to edit it using this [Mermaid Chart link](https://www.mermaidchart.com/app/projects/e0960e96-f27b-4905-b83b-a4741a09c128/diagrams/bcc71cc4-c0fe-4267-a797-99ec0491a8fb/version/v0.1/edit).\n",
    "\n",
    "In addition, here's the structure from Mermaid Chart: \n",
    "\n",
    "```mermaid\n",
    "flowchart TD\n",
    "    subgraph OuterLoop [\"Outer Loop\"]\n",
    "        Start[\"Initial Task Trigger\"]\n",
    "        Start -->|Creates| TaskLedger[\"Task Ledger\"]\n",
    "        TaskLedger -->|Pre-populates with| Facts[\"Facts, Lookups, Guesses\"]\n",
    "        Facts -->|Uses roles to form| Plan[\"Step-by-Step Plan\"]\n",
    "        Plan -->|Starts| InnerLoop\n",
    "    end\n",
    "\n",
    "    subgraph InnerLoop [\"Inner Loop\"]\n",
    "        InnerLoop -->|Evaluate| CheckTask{\"Is Task Complete?\"}\n",
    "        CheckTask -->|Yes| Terminate[Terminate]\n",
    "        CheckTask -->|No| ProgressCheck{\"Stalling or Looping?\"}\n",
    "        ProgressCheck -->|No| NextAgent[\"Choose Next Agent\"]\n",
    "        NextAgent --> InnerLoop\n",
    "        ProgressCheck -->|Yes| Counter[\"Increment Counter\"]\n",
    "        Counter -->|Exceeds Threshold| Reflect[\"Reflection & Self-Refinement\"]\n",
    "        Reflect --> UpdateLedger[\"Update Task Ledger and Plan\"]\n",
    "        UpdateLedger --> InnerLoop\n",
    "    end\n",
    "\n",
    "    subgraph Agents [\"Agents in Magnetic-One System\"]\n",
    "        Orchestrator -- Directs --> WebSurfer\n",
    "        Orchestrator -- Directs --> FileSurfer\n",
    "        Orchestrator -- Directs --> Coder\n",
    "        Orchestrator -- Directs --> ComputerTerminal\n",
    "    end\n",
    "\n",
    "    Terminate --> Review[\"Review & Final Report\"]\n",
    "    OuterLoop --> Agents\n"
   ]
  },
  {
   "cell_type": "markdown",
   "metadata": {},
   "source": [
    "## Code adaptation"
   ]
  },
  {
   "cell_type": "markdown",
   "metadata": {},
   "source": [
    "Following code is an intent to perform Magnetic one workflow based on LangGraph, it's the version 0.0.1 and still need refinement and testing."
   ]
  },
  {
   "cell_type": "markdown",
   "metadata": {},
   "source": [
    "### 1. Libraries, Setup, and Initialization\n",
    "\n",
    "Defining the required imports, classes, and initial setup based on `LangGraph`.\n"
   ]
  },
  {
   "cell_type": "code",
   "execution_count": null,
   "metadata": {
    "vscode": {
     "languageId": "plaintext"
    }
   },
   "outputs": [],
   "source": [
    "\n",
    "from langgraph.graph import StateGraph, END, START\n",
    "from langchain_openai import ChatOpenAI\n",
    "from typing import Dict, List, Tuple, Optional\n",
    "\n",
    "# Initialize OpenAI model for language processing\n",
    "llm = ChatOpenAI(model=\"gpt-4\")\n",
    "\n",
    "# Define Task State Structure\n",
    "class TaskState:\n",
    "    \"\"\"\n",
    "    Define the task state structure, including Task Ledger, plan, counter, and result summary.\n",
    "    \"\"\"\n",
    "    def __init__(self):\n",
    "        self.messages: List[str] = []\n",
    "        self.task_ledger: Dict[str, str] = {}    # Task Ledger for facts, guesses, etc.\n",
    "        self.task_plan: List[Tuple[str, str]] = []  # Step-by-step task plan\n",
    "        self.counter: int = 0                    # Counter to detect stalls\n",
    "        self.final_report: Optional[str] = None  # Stores the final report summary\n",
    "        self.task_complete: bool = False         # Completion status\n",
    "\n",
    "    def update_task_ledger(self, key: str, value: str):\n",
    "        self.task_ledger[key] = value\n",
    "\n",
    "    def increment_counter(self):\n",
    "        self.counter += 1\n",
    "\n",
    "    def reset_counter(self):\n",
    "        self.counter = 0\n",
    "\n",
    "    def set_task_complete(self, status: bool = True):\n",
    "        self.task_complete = status\n"
   ]
  },
  {
   "cell_type": "markdown",
   "metadata": {},
   "source": [
    "### 2. Orchestrator and Inner/Outer Loop\n",
    "\n",
    "The **Orchestrator** will serve as the central agent, managing task setup, ledger updates, plan formation, and calling agents. I'll implement this with additional helper functions.\n"
   ]
  },
  {
   "cell_type": "code",
   "execution_count": null,
   "metadata": {
    "vscode": {
     "languageId": "plaintext"
    }
   },
   "outputs": [],
   "source": [
    "def orchestrator_agent(state: TaskState):\n",
    "    \"\"\"\n",
    "    Initializes the Task Ledger, sets up a plan, and manages agent selection.\n",
    "    \"\"\"\n",
    "    state.task_ledger = create_task_ledger()\n",
    "    state.task_plan = generate_task_plan(state)\n",
    "    state.messages.append(\"Orchestrator has set up the task and plan.\")\n",
    "    return state\n",
    "\n",
    "def create_task_ledger() -> Dict[str, str]:\n",
    "    \"\"\"\n",
    "    Populates the Task Ledger with initial facts and guesses.\n",
    "    \"\"\"\n",
    "    return {\n",
    "        \"task_id\": \"001\",\n",
    "        \"known_facts\": \"Initial task facts\",\n",
    "        \"guesses\": \"Potential unknown elements\"\n",
    "    }\n",
    "\n",
    "def generate_task_plan(state: TaskState) -> List[Tuple[str, str]]:\n",
    "    \"\"\"\n",
    "    Generates a task plan based on the Task Ledger.\n",
    "    \"\"\"\n",
    "    return [\n",
    "        (\"WebSurfer\", \"Perform web search\"),\n",
    "        (\"FileSurfer\", \"Read from files\"),\n",
    "        (\"Coder\", \"Analyze data\"),\n",
    "        (\"ComputerTerminal\", \"Execute necessary commands\"),\n",
    "    ]\n",
    "\n",
    "def assign_next_agent(state: TaskState):\n",
    "    \"\"\"\n",
    "    Assigns the next agent based on progress or stall detection.\n",
    "    \"\"\"\n",
    "    if state.task_complete:\n",
    "        return \"Complete\"\n",
    "\n",
    "    if state.counter >= 2:  # Counter threshold for stalls\n",
    "        state.messages.append(\"Orchestrator reflecting due to stall.\")\n",
    "        reflect_and_adjust(state)\n",
    "        state.reset_counter()\n",
    "    else:\n",
    "        state.increment_counter()\n",
    "\n",
    "    if state.task_plan:\n",
    "        next_task = state.task_plan.pop(0)\n",
    "        state.reset_counter()\n",
    "        return next_task\n",
    "    else:\n",
    "        return \"Reflect and Adjust\"\n",
    "\n",
    "def reflect_and_adjust(state: TaskState):\n",
    "    \"\"\"\n",
    "    Revisits the Task Ledger and redefines the task plan if stalls are detected.\n",
    "    \"\"\"\n",
    "    state.messages.append(\"Revisiting task plan and refining approach.\")\n",
    "    # Modify the task plan based on current state as a demonstration\n",
    "    state.task_plan = [(\"WebSurfer\", \"Re-attempt web search\"), (\"FileSurfer\", \"Re-check files\")]\n",
    "\n",
    "def evaluate_completion(state: TaskState) -> bool:\n",
    "    \"\"\"\n",
    "    Determines if the task is complete based on criteria in the Task Ledger.\n",
    "    \"\"\"\n",
    "    return \"web_data\" in state.task_ledger and \"file_data\" in state.task_ledger"
   ]
  },
  {
   "cell_type": "markdown",
   "metadata": {},
   "source": [
    "\n",
    "### 3. Specialized Agents for Task Execution\n",
    "\n",
    "Each agent will be tasked with specific actions, such as web scraping, reading files, or code analysis.\n"
   ]
  },
  {
   "cell_type": "code",
   "execution_count": null,
   "metadata": {
    "vscode": {
     "languageId": "plaintext"
    }
   },
   "outputs": [],
   "source": [
    "def web_surfer_agent(state: TaskState):\n",
    "    \"\"\"\n",
    "    Gathers data from the web and updates Task Ledger.\n",
    "    \"\"\"\n",
    "    state.messages.append(\"WebSurfer is gathering data from the web.\")\n",
    "    state.task_ledger[\"web_data\"] = \"Sample web data retrieved\"\n",
    "    return state\n",
    "\n",
    "def file_surfer_agent(state: TaskState):\n",
    "    \"\"\"\n",
    "    Reads files and updates Task Ledger.\n",
    "    \"\"\"\n",
    "    state.messages.append(\"FileSurfer is reading files.\")\n",
    "    state.task_ledger[\"file_data\"] = \"Sample file data retrieved\"\n",
    "    return state\n",
    "\n",
    "def coder_agent(state: TaskState):\n",
    "    \"\"\"\n",
    "    Analyzes or debugs code as required by the task.\n",
    "    \"\"\"\n",
    "    state.messages.append(\"Coder is analyzing code.\")\n",
    "    state.task_ledger[\"code_analysis\"] = \"Code analyzed successfully.\"\n",
    "    return state\n",
    "\n",
    "def computer_terminal_agent(state: TaskState):\n",
    "    \"\"\"\n",
    "    Executes necessary commands or installs libraries.\n",
    "    \"\"\"\n",
    "    state.messages.append(\"ComputerTerminal is executing commands.\")\n",
    "    state.task_ledger[\"execution_result\"] = \"Commands executed successfully.\"\n",
    "    return state"
   ]
  },
  {
   "cell_type": "markdown",
   "metadata": {},
   "source": [
    "\n",
    "### 4. Final Reporting and Termination\n",
    "\n",
    "The final report will summarize the gathered information and results.\n"
   ]
  },
  {
   "cell_type": "code",
   "execution_count": null,
   "metadata": {
    "vscode": {
     "languageId": "plaintext"
    }
   },
   "outputs": [],
   "source": [
    "def finalize_task(state: TaskState):\n",
    "    \"\"\"\n",
    "    Generates a final report based on the Task Ledger.\n",
    "    \"\"\"\n",
    "    state.final_report = (\n",
    "        f\"Task ID: {state.task_ledger.get('task_id')}\\n\"\n",
    "        f\"Known Facts: {state.task_ledger.get('known_facts')}\\n\"\n",
    "        f\"Web Data: {state.task_ledger.get('web_data')}\\n\"\n",
    "        f\"File Data: {state.task_ledger.get('file_data')}\\n\"\n",
    "        f\"Code Analysis: {state.task_ledger.get('code_analysis')}\\n\"\n",
    "        f\"Execution Result: {state.task_ledger.get('execution_result')}\\n\"\n",
    "        f\"Uncertainties: {state.task_ledger.get('guesses')}\\n\"\n",
    "    )\n",
    "    state.messages.append(\"Final report generated.\")\n",
    "    return state"
   ]
  },
  {
   "cell_type": "markdown",
   "metadata": {},
   "source": [
    "\n",
    "### 5. Workflow Graph Definition\n",
    "\n",
    "I'll create the workflow graph by defining nodes and transitions based on the above agent functions."
   ]
  },
  {
   "cell_type": "code",
   "execution_count": null,
   "metadata": {
    "vscode": {
     "languageId": "plaintext"
    }
   },
   "outputs": [],
   "source": [
    "# Create the task execution graph\n",
    "graph = StateGraph(TaskState)\n",
    "\n",
    "# Add nodes (agents and orchestrator) to the graph\n",
    "graph.add_node(\"Orchestrator\", orchestrator_agent)\n",
    "graph.add_node(\"WebSurfer\", web_surfer_agent)\n",
    "graph.add_node(\"FileSurfer\", file_surfer_agent)\n",
    "graph.add_node(\"Coder\", coder_agent)\n",
    "graph.add_node(\"ComputerTerminal\", computer_terminal_agent)\n",
    "graph.add_node(\"FinalReview\", finalize_task)\n",
    "\n",
    "# Define transitions\n",
    "graph.add_edge(\"Orchestrator\", \"WebSurfer\")        # Start with web data gathering\n",
    "graph.add_edge(\"WebSurfer\", \"FileSurfer\")          # Move to file reading\n",
    "graph.add_edge(\"FileSurfer\", \"Coder\")              # Move to code analysis\n",
    "graph.add_edge(\"Coder\", \"ComputerTerminal\")        # Move to terminal execution\n",
    "graph.add_edge(\"ComputerTerminal\", \"FinalReview\")  # Final review after all steps\n",
    "\n",
    "# Add start and end nodes\n",
    "graph.add_edge(START, \"Orchestrator\")              # Initial task setup by orchestrator\n",
    "graph.add_edge(\"FinalReview\", END)                 # End after final review\n",
    "\n",
    "# Compile the graph\n",
    "compiled_graph = graph.compile()"
   ]
  },
  {
   "cell_type": "markdown",
   "metadata": {},
   "source": [
    "\n",
    "### 6. Execution Flow Function\n",
    "\n",
    "This function will run the task system, beginning from the initial task description.<>"
   ]
  },
  {
   "cell_type": "code",
   "execution_count": null,
   "metadata": {
    "vscode": {
     "languageId": "plaintext"
    }
   },
   "outputs": [],
   "source": [
    "def run_task_system(task_description: str):\n",
    "    \"\"\"\n",
    "    Execute the task system starting from the initial description.\n",
    "    \"\"\"\n",
    "    task_state = TaskState()\n",
    "    task_state.messages.append(f\"Task started: {task_description}\")\n",
    "\n",
    "    for state in compiled_graph.stream(task_state):\n",
    "        if \"__end__\" not in state:\n",
    "            print(state.messages[-1])\n",
    "        else:\n",
    "            print(\"Task Complete\")\n",
    "            print(state.final_report)\n",
    "            break\n",
    "\n",
    "# Run the task system with an example description\n",
    "run_task_system(\"Analyze new market trends and compile a report.\")"
   ]
  },
  {
   "cell_type": "markdown",
   "metadata": {},
   "source": [
    "This expanded code structure integrates each part of the **Magnetic-One Multi-Agent System** workflow, ensuring that the Orchestrator manages agents within an inner/outer loop, assigns agents to prevent stalls, and generates a comprehensive final report based on the Task Ledger."
   ]
  }
 ],
 "metadata": {
  "language_info": {
   "name": "python"
  }
 },
 "nbformat": 4,
 "nbformat_minor": 2
}
